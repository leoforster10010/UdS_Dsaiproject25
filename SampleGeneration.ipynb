﻿{
 "cells": [
  {
   "cell_type": "code",
   "id": "initial_id",
   "metadata": {
    "collapsed": true
   },
   "source": [
    "import numpy as np\n",
    "\n",
    "# Constants\n",
    "Sampling_Interval = 1e-3  # Sampling interval\n",
    "Count_Samples = 1000  # Number of samples\n",
    "Sampling_Frequency = 1 / Sampling_Interval  # Sampling frequency (1MHz)\n",
    "Frequency_Resolution = Sampling_Frequency / Count_Samples  # Frequency resolution (1)\n",
    "\n",
    "# Carrier and modulation parameters\n",
    "Carrier_Frequency = 100  # Carrier frequency in MHz\n",
    "Frequency_Spacing = 1  # Frequency spacing for modulation\n",
    "Count_Frequencies = 200  # Number of modulating frequencies\n",
    "\n",
    "Time_Axis = np.arange(Count_Samples) * Sampling_Interval  # Time axis\n",
    "Frequency_Vector = np.arange(Count_Samples // 2) * Frequency_Resolution  # Frequency vector\n",
    "AWG_Frequencies = np.array([95, 96, 97, 98, 99, 100, 101, 102, 103, 104, 105])  # frequencies in MHz\n",
    "AWG_Frequencies_Indices = (Count_Frequencies/2 + (AWG_Frequencies - Carrier_Frequency) / Frequency_Spacing).astype(int)  # indices in fm\n",
    "Frequencies = Carrier_Frequency + np.arange(-Count_Frequencies / 2, Count_Frequencies / 2 + 1) * Frequency_Spacing\n"
   ],
   "outputs": [],
   "execution_count": null
  },
  {
   "metadata": {},
   "cell_type": "code",
   "source": [
    "def generate_awg_time_signal(time_axis, awg_frequencies_indices, frequencies, awg_freqs_real, awg_freqs_imag):\n",
    "    awg_time_signal = np.zeros_like(time_axis)\n",
    "    for index in awg_frequencies_indices:\n",
    "        awg_time_signal += awg_freqs_real[index] * np.cos(2 * np.pi * frequencies[index] * time_axis) - awg_freqs_imag[index] * np.sin(2 * np.pi * frequencies[index] * time_axis)\n",
    "\n",
    "    return awg_time_signal\n",
    "\n",
    "def simulate_aom(awg_time_signal):\n",
    "    return np.sin(2 * np.pi * awg_time_signal)\n",
    "\n",
    "def fft(time_signal):\n",
    "    spectrum = np.fft.fft(time_signal) / (Count_Samples / 2)\n",
    "    real_part = np.real(spectrum[:Count_Samples // 2])\n",
    "    imag_part = np.imag(spectrum[:Count_Samples // 2])\n",
    "    return real_part, imag_part\n",
    "\n",
    "def mask_fft(real_part, imag_part):\n",
    "    f_min = 50  # MHz\n",
    "    f_max = 150  # MHz\n",
    "    mask = (Frequency_Vector >= f_min) & (Frequency_Vector <= f_max)\n",
    "    real_part_masked = real_part[mask]\n",
    "    imag_part_masked = imag_part[mask]\n",
    "    return real_part_masked, imag_part_masked\n"
   ],
   "id": "345518c880c54195",
   "outputs": [],
   "execution_count": null
  },
  {
   "metadata": {},
   "cell_type": "code",
   "source": [
    "an = np.zeros_like(Frequencies)\n",
    "bn = np.zeros_like(Frequencies)\n",
    "an[AWG_Frequencies_Indices] = [0, 0, 0, 0, 0.5, 0.5, 0, 0, 0, 0, 0] #AWG INPUT\n",
    "bn[AWG_Frequencies_Indices] = [0, 0, 0, 0, 0, 0.5, 0.5, 0, 0, 0, 0] #AWG INPUT\n",
    "\n",
    "awg_time_signal = generate_awg_time_signal(Time_Axis, AWG_Frequencies_Indices, Frequencies, an, bn)\n",
    "aom_time_signal = simulate_aom(awg_time_signal)\n",
    "(real_part, imag_part) = fft(aom_time_signal)\n",
    "(real_part_masked, imag_part_masked) = mask_fft(real_part, imag_part)\n",
    "(real_part_masked, imag_part_masked)"
   ],
   "id": "9d2f2e937d99daaf",
   "outputs": [],
   "execution_count": null
  },
  {
   "metadata": {},
   "cell_type": "code",
   "source": [
    "import matplotlib.pyplot as plt\n",
    "\n",
    "# --- Combined plot: RF ---\n",
    "plt.figure(figsize=(10, 4))\n",
    "plt.plot(Frequency_Vector, real_part, label='Real')\n",
    "plt.plot(Frequency_Vector, imag_part, label='Imag')\n",
    "plt.title(\"AOM Output Spectrum\")\n",
    "plt.xlabel(\"Frequency (MHz)\")\n",
    "plt.ylabel(\"Amplitude\")\n",
    "plt.legend()\n",
    "plt.xlim([50, 150])\n",
    "plt.grid(True)\n",
    "plt.show()"
   ],
   "id": "3040f716db246748",
   "outputs": [],
   "execution_count": null
  },
  {
   "metadata": {},
   "cell_type": "code",
   "source": "",
   "id": "c49f7df992b3611b",
   "outputs": [],
   "execution_count": null
  }
 ],
 "metadata": {
  "kernelspec": {
   "display_name": "Python 3",
   "language": "python",
   "name": "python3"
  },
  "language_info": {
   "codemirror_mode": {
    "name": "ipython",
    "version": 2
   },
   "file_extension": ".py",
   "mimetype": "text/x-python",
   "name": "python",
   "nbconvert_exporter": "python",
   "pygments_lexer": "ipython2",
   "version": "2.7.6"
  }
 },
 "nbformat": 4,
 "nbformat_minor": 5
}
